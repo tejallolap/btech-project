{
 "cells": [
  {
   "cell_type": "code",
   "execution_count": 28,
   "metadata": {},
   "outputs": [
    {
     "name": "stdout",
     "output_type": "stream",
     "text": [
      "Time consumed by cuml:  0.0003638267517089844\n",
      "Time consumed by sklearn:  0.0008661746978759766\n",
      " cuml max_error:  3.0\n",
      " sklearn max_error :  3.0\n"
     ]
    },
    {
     "name": "stderr",
     "output_type": "stream",
     "text": [
      "<ipython-input-28-1eac379c32d7>:29: UserWarning: For reproducible results in Random Forest Classifier or for almost reproducible results in Random Forest Regressor, n_streams==1 is recommended. If n_streams is > 1, results may vary due to stream/thread timing differences, even when random_state is set\n",
      "  model = cuRF( max_depth = max_depth,\n"
     ]
    }
   ],
   "source": [
    "import cupy as cp\n",
    "from cupy import asnumpy \n",
    "from cuml.datasets.classification import make_classification\n",
    "from cuml.preprocessing.model_selection import train_test_split\n",
    "from cuml.ensemble import RandomForestClassifier as cuRF\n",
    "from sklearn.metrics import max_error as sklearn_max_error\n",
    "import time\n",
    "\n",
    "\n",
    "# synthetic dataset dimensions\n",
    "n_samples = 2**15\n",
    "n_features = 100\n",
    "n_classes = 4\n",
    "n_informative = 10\n",
    "\n",
    "# random forest depth and size\n",
    "n_estimators = 25\n",
    "max_depth = 10\n",
    "\n",
    "# generate synthetic data [ binary classification task ]\n",
    "X, y = make_classification ( n_classes = n_classes,\n",
    "                             n_features = n_features,\n",
    "                             n_samples = n_samples,\n",
    "                             n_informative = n_informative,\n",
    "                             random_state = 0 )\n",
    "\n",
    "X_train, X_test, y_train, y_test = train_test_split( X, y, random_state = 0 )\n",
    "\n",
    "model = cuRF( max_depth = max_depth, \n",
    "              n_estimators = n_estimators,\n",
    "              random_state  = 0 )\n",
    "\n",
    "trained_RF = model.fit ( X_train, y_train )\n",
    "\n",
    "predictions = model.predict ( X_test )\n",
    "\n",
    "def max_error(y_true, y_pred):\n",
    "    y_true = y_true.astype(cp.float32)\n",
    "    y_pred = y_pred.astype(cp.float32)\n",
    "    error = cp.ElementwiseKernel(\n",
    "        'T y_pred, T y_true',\n",
    "        'T diff',\n",
    "        'diff = y_pred - y_true',\n",
    "        'error')\n",
    "    diff = error(y_pred, y_true)\n",
    "    return cp.max(diff)\n",
    "s = time.time()\n",
    "cu_score = max_error( y_test, predictions )\n",
    "e = time.time()\n",
    "print(\"Time consumed by cuml: \", e-s)\n",
    "p = time.time()\n",
    "sk_score = sklearn_max_error( asnumpy( y_test ), asnumpy( predictions ) )\n",
    "d = time.time()\n",
    "print(\"Time consumed by sklearn: \", d-p)\n",
    "\n",
    "print( \" cuml max_error: \", cu_score )\n",
    "print( \" sklearn max_error : \", sk_score )\n"
   ]
  },
  {
   "cell_type": "code",
   "execution_count": null,
   "metadata": {},
   "outputs": [],
   "source": []
  }
 ],
 "metadata": {
  "kernelspec": {
   "display_name": "RAPIDS Stable",
   "language": "python",
   "name": "python3"
  },
  "language_info": {
   "codemirror_mode": {
    "name": "ipython",
    "version": 3
   },
   "file_extension": ".py",
   "mimetype": "text/x-python",
   "name": "python",
   "nbconvert_exporter": "python",
   "pygments_lexer": "ipython3",
   "version": "3.8.5"
  }
 },
 "nbformat": 4,
 "nbformat_minor": 4
}
