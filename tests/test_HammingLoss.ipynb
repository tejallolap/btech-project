{
 "cells": [
  {
   "cell_type": "code",
   "execution_count": 3,
   "metadata": {},
   "outputs": [],
   "source": [
    "import cuml\n",
    "from cupy import asnumpy\n",
    "from joblib import dump, load"
   ]
  },
  {
   "cell_type": "code",
   "execution_count": 4,
   "metadata": {},
   "outputs": [
    {
     "name": "stderr",
     "output_type": "stream",
     "text": [
      "<ipython-input-4-1b250a83a01b>:29: UserWarning: For reproducible results in Random Forest Classifier or for almost reproducible results in Random Forest Regressor, n_streams==1 is recommended. If n_streams is > 1, results may vary due to stream/thread timing differences, even when random_state is set\n",
      "  model = cuRF( max_depth = max_depth,\n"
     ]
    },
    {
     "name": "stdout",
     "output_type": "stream",
     "text": [
      "Time consumed by cuml:  0.0004208087921142578\n",
      "Time consumed by sklearn:  0.00327301025390625\n",
      " cuml Hamming Loss:  0.37576\n",
      " sklearn Hamming Loss :  0.37576\n"
     ]
    }
   ],
   "source": [
    "import cupy as cp\n",
    "from cupy import asnumpy \n",
    "from cuml.datasets.classification import make_classification\n",
    "from cuml.preprocessing.model_selection import train_test_split\n",
    "from cuml.ensemble import RandomForestClassifier as cuRF\n",
    "from sklearn.metrics import hamming_loss as sk_hamming_loss\n",
    "\n",
    "import time\n",
    "\n",
    "\n",
    "# synthetic dataset dimensions\n",
    "n_samples = 100000\n",
    "n_features = 1000\n",
    "n_classes = 2\n",
    "\n",
    "\n",
    "# random forest depth and size\n",
    "n_estimators = 25\n",
    "max_depth = 10\n",
    "\n",
    "# generate synthetic data [ binary classification task ]\n",
    "X, y = make_classification ( n_classes = n_classes,\n",
    "                             n_features = n_features,\n",
    "                             n_samples = n_samples,\n",
    "                             random_state = 0 )\n",
    "\n",
    "X_train, X_test, y_train, y_test = train_test_split( X, y, random_state = 0 )\n",
    "\n",
    "model = cuRF( max_depth = max_depth, \n",
    "              n_estimators = n_estimators,\n",
    "              random_state  = 0 )\n",
    "\n",
    "trained_RF = model.fit ( X_train, y_train )\n",
    "\n",
    "predictions = model.predict ( X_test )\n",
    "\n",
    "def check_length(y_true, y_pred):\n",
    "    if  len(y_true) == len(y_pred):\n",
    "        return True\n",
    "    else:\n",
    "        return False\n",
    "\n",
    "def weight_sum(sample_score, sample_weight, normalize):\n",
    "    if normalize:\n",
    "        return cp.average(sample_score, weights=sample_weight)\n",
    "    elif sample_weight is not None:\n",
    "        return cp.dot(sample_score, sample_weight)\n",
    "    else:\n",
    "        return sample_score.sum()\n",
    "\n",
    "def hamming_loss(y_true, y_pred, *, sample_weight=None):\n",
    "    if check_length(y_true, y_pred)==True:\n",
    "        try:\n",
    "            return  float(weight_sum(y_true != y_pred, sample_weight, normalize=True))\n",
    "        except:\n",
    "            raise ValueError(\"{0} is not supported\".format(y_type))\n",
    "\n",
    "s = time.time()\n",
    "cu_score = hamming_loss( y_test, predictions, )\n",
    "e = time.time()\n",
    "print(\"Time consumed by cuml: \", e-s)\n",
    "p = time.time()\n",
    "sk_score = sk_hamming_loss( asnumpy( y_test ), asnumpy( predictions ) )\n",
    "d = time.time()\n",
    "print(\"Time consumed by sklearn: \", d-p)\n",
    "\n",
    "print( \" cuml Hamming Loss: \", cu_score )\n",
    "print( \" sklearn Hamming Loss : \", sk_score )"
   ]
  },
  {
   "cell_type": "code",
   "execution_count": null,
   "metadata": {},
   "outputs": [],
   "source": []
  }
 ],
 "metadata": {
  "kernelspec": {
   "display_name": "RAPIDS Stable",
   "language": "python",
   "name": "python3"
  },
  "language_info": {
   "codemirror_mode": {
    "name": "ipython",
    "version": 3
   },
   "file_extension": ".py",
   "mimetype": "text/x-python",
   "name": "python",
   "nbconvert_exporter": "python",
   "pygments_lexer": "ipython3",
   "version": "3.8.5"
  }
 },
 "nbformat": 4,
 "nbformat_minor": 4
}
