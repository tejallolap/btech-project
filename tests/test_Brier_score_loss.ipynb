{
 "cells": [
  {
   "cell_type": "code",
   "execution_count": 1,
   "metadata": {},
   "outputs": [],
   "source": [
    "import cuml\n",
    "from cupy import asnumpy\n",
    "from joblib import dump, load\n",
    "import numpy as np\n",
    "import cupy as cp\n",
    "import pandas as pd\n",
    "import cudf\n",
    "import time"
   ]
  },
  {
   "cell_type": "code",
   "execution_count": 3,
   "metadata": {},
   "outputs": [
    {
     "name": "stdout",
     "output_type": "stream",
     "text": [
      "Time consumed by cuml:  0.0006012916564941406\n",
      "Time consumed by sklearn:  0.0007317066192626953\n",
      " cuml Brier Score Loss:  0.0008247571243787482\n",
      " sklearn Brier Score Loss :  0.0008247571243787482\n"
     ]
    },
    {
     "name": "stderr",
     "output_type": "stream",
     "text": [
      "/opt/conda-environments/rapids-stable/lib/python3.8/site-packages/sklearn/linear_model/_logistic.py:762: ConvergenceWarning: lbfgs failed to converge (status=1):\n",
      "STOP: TOTAL NO. of ITERATIONS REACHED LIMIT.\n",
      "\n",
      "Increase the number of iterations (max_iter) or scale the data as shown in:\n",
      "    https://scikit-learn.org/stable/modules/preprocessing.html\n",
      "Please also refer to the documentation for alternative solver options:\n",
      "    https://scikit-learn.org/stable/modules/linear_model.html#logistic-regression\n",
      "  n_iter_i = _check_optimize_result(\n"
     ]
    }
   ],
   "source": [
    "df = pd.read_csv('diabetes.csv')\n",
    "from sklearn.model_selection import train_test_split\n",
    "from sklearn.linear_model import LogisticRegression\n",
    "from sklearn.metrics import brier_score_loss as sk_brier_score_loss\n",
    "#df = df.drop('Species', axis=1)\n",
    "#y=df.DiabetesPedigreeFunction\n",
    "y=df.Outcome\n",
    "X_train, X_test, y_train, y_test = train_test_split(df, y,test_size=0.2)\n",
    "lr = LogisticRegression()\n",
    "lr.fit(X_train, y_train)\n",
    "predictions = lr.predict_proba(X_test)[:,1]\n",
    "y_test = cp.asarray(y_test) \n",
    "predictions = cp.asarray(predictions)\n",
    "\n",
    "classes = cp.unique(y_test)\n",
    "def check_length(y_true, y_pred):\n",
    "    if  len(y_true) == len(y_pred):\n",
    "        return True\n",
    "    else:\n",
    "        return False\n",
    "\n",
    "\n",
    "def brier_score_loss(y_true, y_prob, *, sample_weight=None, pos_label=0):\n",
    "    if check_length(y_true, y_prob)==True:\n",
    "        #labels = cp.unique(y_true)\n",
    "        if pos_label is None:\n",
    "            if (cp.array_equal(labels, [0]) or\n",
    "                    cp.array_equal(labels, [-1])):\n",
    "                pos_label = 1\n",
    "            else:\n",
    "                pos_label = y_true.maximum()\n",
    "        y_true = cp.asarray(y_true == pos_label, int)\n",
    "    return float(cp.average((y_true - y_prob) ** 2, weights=sample_weight))\n",
    "\n",
    "\n",
    "s = time.time()\n",
    "cu_score = brier_score_loss(y_test, 1-predictions)\n",
    "e = time.time()\n",
    "print(\"Time consumed by cuml: \", e-s)\n",
    "p = time.time()\n",
    "sk_score = sk_brier_score_loss(asnumpy(y_test), asnumpy(predictions))\n",
    "\n",
    "d = time.time()\n",
    "print(\"Time consumed by sklearn: \", d-p)\n",
    "\n",
    "print( \" cuml Brier Score Loss: \", cu_score )\n",
    "print( \" sklearn Brier Score Loss : \", sk_score )"
   ]
  },
  {
   "cell_type": "code",
   "execution_count": null,
   "metadata": {},
   "outputs": [],
   "source": []
  }
 ],
 "metadata": {
  "kernelspec": {
   "display_name": "RAPIDS Stable",
   "language": "python",
   "name": "python3"
  },
  "language_info": {
   "codemirror_mode": {
    "name": "ipython",
    "version": 3
   },
   "file_extension": ".py",
   "mimetype": "text/x-python",
   "name": "python",
   "nbconvert_exporter": "python",
   "pygments_lexer": "ipython3",
   "version": "3.8.5"
  }
 },
 "nbformat": 4,
 "nbformat_minor": 4
}
