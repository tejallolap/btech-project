{
 "cells": [
  {
   "cell_type": "code",
   "execution_count": 5,
   "metadata": {},
   "outputs": [
    {
     "name": "stderr",
     "output_type": "stream",
     "text": [
      "<ipython-input-5-d5e0220e75ec>:29: UserWarning: For reproducible results in Random Forest Classifier or for almost reproducible results in Random Forest Regressor, n_streams==1 is recommended. If n_streams is > 1, results may vary due to stream/thread timing differences, even when random_state is set\n",
      "  model = cuRF( max_depth = max_depth,\n"
     ]
    },
    {
     "name": "stdout",
     "output_type": "stream",
     "text": [
      "Time consumed by cuML:  0.0014052391052246094\n",
      "Time consumed by sklearn:  0.1957409381866455\n",
      "Sklearn output 0.6492258356426274\n",
      "cuML output 0.6492258356426273\n"
     ]
    }
   ],
   "source": [
    "import cupy as cp\n",
    "from cupy import asnumpy \n",
    "from cuml.datasets.classification import make_classification\n",
    "from cuml.preprocessing.model_selection import train_test_split\n",
    "from cuml.ensemble import RandomForestClassifier as cuRF\n",
    "from sklearn.metrics import balanced_accuracy_score as balanced\n",
    "from cuml.metrics import confusion_matrix\n",
    "import time\n",
    "\n",
    "# synthetic dataset dimensions\n",
    "n_samples = 2**20\n",
    "n_features = 100\n",
    "n_classes = 4\n",
    "n_informative = 10\n",
    "\n",
    "# random forest depth and size\n",
    "n_estimators = 25\n",
    "max_depth = 10\n",
    "\n",
    "# generate synthetic data [ binary classification task ]\n",
    "X, y = make_classification ( n_classes = n_classes,\n",
    "                             n_features = n_features,\n",
    "                             n_samples = n_samples,\n",
    "                             n_informative = n_informative,\n",
    "                             random_state = 0 )\n",
    "\n",
    "X_train, X_test, y_train, y_test = train_test_split( X, y, random_state = 0 )\n",
    "\n",
    "model = cuRF( max_depth = max_depth, \n",
    "              n_estimators = n_estimators,\n",
    "              random_state  = 0 )\n",
    "\n",
    "trained_RF = model.fit ( X_train, y_train )\n",
    "\n",
    "predictions = model.predict ( X_test )\n",
    "\n",
    "y_test = y_test.astype(cp.int64)\n",
    "predictions = predictions.astype(cp.int64)\n",
    "\n",
    "M = confusion_matrix( y_test, predictions , labels=None,\n",
    "                     sample_weight=None,\n",
    "                     normalize=None)\n",
    "classes = cp.unique(y_test)\n",
    "\n",
    "def balanced_accuracy_score(conf_matrix, classes, adjusted=False):\n",
    "    rec_list = cp.empty(len(classes))\n",
    "    for i in range(len(classes)): \n",
    "        TP = conf_matrix[i,i]\n",
    "        D = 0\n",
    "        for j in range(0, len(classes)):\n",
    "                D = D + conf_matrix[i, j] #TP+FN\n",
    "        try:\n",
    "          rec = TP/D\n",
    "          rec_list[i] = rec\n",
    "        except ZeroDivisionError:\n",
    "          rec_list[i] = 0\n",
    "    if cp.any(cp.isnan(rec_list)):\n",
    "        warnings.warn('y_pred contains classes not in y_true')\n",
    "        rec_list = rec_list[~cp.isnan(rec_list)]\n",
    "    balanced_score = cp.sum(rec_list)/len(classes)\n",
    "    if adjusted:\n",
    "        n_classes = len(rec_list) \n",
    "        chance = 1 / n_classes \n",
    "        balanced_score -= chance \n",
    "        balanced_score /= 1 - chance\n",
    "    return balanced_score\n",
    "\n",
    "p = time.time()\n",
    "cu = balanced_accuracy_score(M, classes)\n",
    "d = time.time()\n",
    "print(\"Time consumed by cuML: \", d-p)\n",
    "\n",
    "e = time.time()\n",
    "sk = balanced(asnumpy( y_test ), asnumpy( predictions ))\n",
    "s = time.time()\n",
    "print(\"Time consumed by sklearn: \", s-e)\n",
    "\n",
    "print(\"Sklearn output\", sk)\n",
    "print(\"cuML output\", cu)\n",
    "\n"
   ]
  },
  {
   "cell_type": "code",
   "execution_count": null,
   "metadata": {},
   "outputs": [],
   "source": []
  }
 ],
 "metadata": {
  "kernelspec": {
   "display_name": "RAPIDS Stable",
   "language": "python",
   "name": "python3"
  },
  "language_info": {
   "codemirror_mode": {
    "name": "ipython",
    "version": 3
   },
   "file_extension": ".py",
   "mimetype": "text/x-python",
   "name": "python",
   "nbconvert_exporter": "python",
   "pygments_lexer": "ipython3",
   "version": "3.8.5"
  }
 },
 "nbformat": 4,
 "nbformat_minor": 4
}
