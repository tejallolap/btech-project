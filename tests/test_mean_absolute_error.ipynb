{
 "cells": [
  {
   "cell_type": "code",
   "execution_count": 7,
   "metadata": {},
   "outputs": [],
   "source": [
    "from cuml.datasets import make_regression\n",
    "from cuml.preprocessing.model_selection import train_test_split\n",
    "from cuml.linear_model import LinearRegression as cuLR\n",
    "from sklearn.metrics import mean_absolute_error\n",
    "import cupy as cp\n",
    "from cupy import asnumpy\n",
    "import time"
   ]
  },
  {
   "cell_type": "code",
   "execution_count": 8,
   "metadata": {},
   "outputs": [],
   "source": [
    "n_samples = 2**10\n",
    "n_features = 100\n",
    "n_info = 70\n",
    "\n",
    "X_reg, y_reg = make_regression( n_samples = n_samples, \n",
    "                                n_features = n_features,\n",
    "                                n_informative = n_info, \n",
    "                                 )\n",
    "\n",
    "X_reg_train, X_reg_test, y_reg_train, y_reg_test = train_test_split( X_reg,\n",
    "                                                                     y_reg, \n",
    "                                                                     train_size = 0.8,\n",
    "                                                                      )\n",
    "cuml_reg_model = cuLR( fit_intercept = False,\n",
    "                       normalize = False,\n",
    "                       algorithm = 'eig' )\n",
    "\n",
    "trained_LR = cuml_reg_model.fit( X_reg_train, y_reg_train )\n",
    "cu_preds = trained_LR.predict( X_reg_test )"
   ]
  },
  {
   "cell_type": "code",
   "execution_count": 9,
   "metadata": {},
   "outputs": [],
   "source": [
    "def mean_absolute_err(y_true, y_pred,*, multioutput = 'raw_values'):\n",
    "  output_errors = cp.average(cp.abs(y_pred - y_true), weights=None, axis=0)\n",
    "  if isinstance(multioutput, str):\n",
    "      if multioutput == 'raw_values':\n",
    "          return output_errors\n",
    "      elif multioutput == 'uniform_average':\n",
    "            # pass None as weights to cp.average: uniform mean\n",
    "          multioutput = None\n",
    "\n",
    "  return cp.average(output_errors, weights=None)\n",
    "\n"
   ]
  },
  {
   "cell_type": "code",
   "execution_count": 10,
   "metadata": {},
   "outputs": [
    {
     "name": "stdout",
     "output_type": "stream",
     "text": [
      "Time consumed by cuml:  0.1917710304260254\n",
      "Time consumed by sklearn:  0.0016658306121826172\n",
      "cuml's mae :  [ 587.6687   575.3483   490.26956  442.1602   719.27167  431.5054\n",
      "  606.88416  416.94858  427.81958  645.9032   547.3572   416.4214\n",
      "  487.6155   712.32227  474.4517  1040.3994   457.03925  438.60013\n",
      "  508.35443  779.8066   910.27905  615.2163   658.7811   491.07126\n",
      "  736.7265   455.89597  416.92642  649.96234  423.4279   430.89474\n",
      "  413.08408  830.8579   529.6624   490.81406  411.70062  530.203\n",
      "  692.54144  421.8025   412.949    411.20804  714.7911   523.37286\n",
      "  832.2852   412.13843 1077.8998   477.08902  412.5074   485.14856\n",
      "  573.24945  523.2301   410.96494  615.4103   531.8932   846.075\n",
      "  411.7443   445.6065   579.8226   430.7336   444.17728  589.0615\n",
      "  584.5281   434.28595  461.7215   422.16855  411.01025  413.15967\n",
      "  723.0263   423.99628  445.4663   518.1291   692.98047  412.577\n",
      "  553.38763  991.3189   472.63055  457.83026  794.0624   434.41208\n",
      "  543.9701   438.51645 1005.65234  414.07733  414.4535   439.336\n",
      "  572.60675  653.20026  411.23022  854.9114   520.58795  597.50006\n",
      "  411.2981   469.97687  547.0309   417.27362  745.45496  566.4203\n",
      "  855.7424   447.2891   664.8538  1472.7137   573.738   1043.3862\n",
      "  634.3798   918.07007  663.49194  794.4183   627.6778   441.14767\n",
      "  777.2913  1208.1284   733.79285  647.02246  751.79443  707.1375\n",
      "  562.94434  427.49002  493.43768  951.11676  412.282    415.55853\n",
      "  423.15976  909.4895   774.6206   503.20236  410.96634  494.60114\n",
      "  410.9634   676.7374   411.49344  654.8294   454.98892  424.40002\n",
      "  471.3936   589.1302   419.33423  484.59885  420.73724  447.56464\n",
      "  586.5513   618.0056   420.54477  997.1919   433.61755  430.84293\n",
      "  567.8006   415.21057  433.88235  464.6667   556.796    420.19772\n",
      "  518.27747  716.4181   411.74948  499.41983  418.4919   456.74475\n",
      "  916.5064   523.1159   418.4688   466.95276  413.17343  822.79205\n",
      "  470.62375  496.03665  426.38467  411.10614  443.17377  502.94687\n",
      "  760.7729   699.27606  466.4824   525.1668   473.25623  641.69543\n",
      "  419.85693  465.33917  537.03345  470.02588  436.51334  789.6345\n",
      "  518.8143   829.1206   646.8731  1243.8816   459.65253  609.5564\n",
      "  641.5336   512.2742   448.2244   415.60535  658.16907  764.8504\n",
      " 1228.1702   436.7529   472.52405  415.0025   620.4721   486.83707\n",
      "  560.99304  448.67752  458.60312 1386.2625   577.78284 1036.1943\n",
      "  645.82904]\n",
      "sklearn's mae :  [0.00049511]\n"
     ]
    }
   ],
   "source": [
    "y_reg_test = cp.asarray(y_reg_test) \n",
    "cu_preds = cp.asarray(cu_preds)\n",
    "\n",
    "s = time.time()\n",
    "cu_mae = mean_absolute_err( y_reg_test, cu_preds, multioutput='raw_values' )\n",
    "e = time.time()\n",
    "print(\"Time consumed by cuml: \", e-s)\n",
    "p = time.time()\n",
    "sk_mae = mean_absolute_error(asnumpy(y_reg_test),asnumpy(cu_preds), multioutput='raw_values')\n",
    "d = time.time()\n",
    "print(\"Time consumed by sklearn: \", d-p)\n",
    "\n",
    "\n",
    "print(\"cuml's mae : \", cu_mae)\n",
    "print(\"sklearn's mae : \", sk_mae)\n"
   ]
  },
  {
   "cell_type": "code",
   "execution_count": null,
   "metadata": {},
   "outputs": [],
   "source": []
  }
 ],
 "metadata": {
  "kernelspec": {
   "display_name": "RAPIDS Stable",
   "language": "python",
   "name": "python3"
  },
  "language_info": {
   "codemirror_mode": {
    "name": "ipython",
    "version": 3
   },
   "file_extension": ".py",
   "mimetype": "text/x-python",
   "name": "python",
   "nbconvert_exporter": "python",
   "pygments_lexer": "ipython3",
   "version": "3.8.5"
  }
 },
 "nbformat": 4,
 "nbformat_minor": 4
}
