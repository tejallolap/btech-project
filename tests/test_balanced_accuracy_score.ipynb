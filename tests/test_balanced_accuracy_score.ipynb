{
 "cells": [
  {
   "cell_type": "code",
   "execution_count": 65,
   "metadata": {},
   "outputs": [
    {
     "name": "stdout",
     "output_type": "stream",
     "text": [
      "1.0\n"
     ]
    },
    {
     "name": "stderr",
     "output_type": "stream",
     "text": [
      "/opt/conda-environments/rapids-stable/lib/python3.8/site-packages/sklearn/linear_model/_logistic.py:762: ConvergenceWarning: lbfgs failed to converge (status=1):\n",
      "STOP: TOTAL NO. of ITERATIONS REACHED LIMIT.\n",
      "\n",
      "Increase the number of iterations (max_iter) or scale the data as shown in:\n",
      "    https://scikit-learn.org/stable/modules/preprocessing.html\n",
      "Please also refer to the documentation for alternative solver options:\n",
      "    https://scikit-learn.org/stable/modules/linear_model.html#logistic-regression\n",
      "  n_iter_i = _check_optimize_result(\n"
     ]
    },
    {
     "data": {
      "text/plain": [
       "array(1.)"
      ]
     },
     "execution_count": 65,
     "metadata": {},
     "output_type": "execute_result"
    }
   ],
   "source": [
    "import numpy as np\n",
    "import cupy as cp\n",
    "import pandas as pd\n",
    "import cudf\n",
    "df = pd.read_csv('Iris.csv')\n",
    "\n",
    "\n",
    "from sklearn.model_selection import train_test_split\n",
    "from sklearn.linear_model import LogisticRegression\n",
    "from cuml.metrics import confusion_matrix\n",
    "from sklearn.metrics import balanced_accuracy_score as bas\n",
    "\n",
    "df = df.drop('Species', axis=1)\n",
    "y=df.Target\n",
    "X_train, X_test, y_train, y_test = train_test_split(df, y,test_size=0.2)\n",
    "lr = LogisticRegression()\n",
    "lr.fit(X_train, y_train)\n",
    "y_pred = lr.predict(X_test)\n",
    "\n",
    "P = bas(y_test, y_pred)\n",
    "print(P)\n",
    "\n",
    "y_test = cp.asarray(y_test) \n",
    "y_pred = cp.asarray(y_pred)\n",
    "\n",
    "\n",
    "M = confusion_matrix(y_test, y_pred, labels=None,\n",
    "                     sample_weight=None,\n",
    "                     normalize=None)\n",
    "\n",
    "classes = cp.unique(y_test)\n",
    "def balanced_accuracy_score(conf_matrix, classes, adjusted=False):\n",
    "    rec_list = cp.empty(len(classes))\n",
    "    for i in range(len(classes)): \n",
    "        TP = conf_matrix[i,i]\n",
    "        D = 0\n",
    "        for j in range(0, len(classes)):\n",
    "                D = D + conf_matrix[i, j] #TP+FN\n",
    "        try:\n",
    "          rec = TP/D\n",
    "          rec_list[i] = rec\n",
    "        except ZeroDivisionError:\n",
    "          rec_list[i] = 0\n",
    "    if cp.any(cp.isnan(rec_list)):\n",
    "        warnings.warn('y_pred contains classes not in y_true')\n",
    "        rec_list = rec_list[~cp.isnan(rec_list)]\n",
    "    balanced_score = cp.sum(rec_list)/len(classes)\n",
    "    if adjusted:\n",
    "        n_classes = len(rec_list) \n",
    "        chance = 1 / n_classes \n",
    "        balanced_score -= chance \n",
    "        balanced_score /= 1 - chance\n",
    "    return balanced_score\n",
    "balanced_accuracy_score(M, classes)\n",
    "\n",
    "\n"
   ]
  }
 ],
 "metadata": {
  "kernelspec": {
   "display_name": "RAPIDS Stable",
   "language": "python",
   "name": "python3"
  },
  "language_info": {
   "codemirror_mode": {
    "name": "ipython",
    "version": 3
   },
   "file_extension": ".py",
   "mimetype": "text/x-python",
   "name": "python",
   "nbconvert_exporter": "python",
   "pygments_lexer": "ipython3",
   "version": "3.8.5"
  }
 },
 "nbformat": 4,
 "nbformat_minor": 4
}
