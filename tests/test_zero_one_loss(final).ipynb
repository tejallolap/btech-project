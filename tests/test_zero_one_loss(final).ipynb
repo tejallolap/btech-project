{
 "cells": [
  {
   "cell_type": "code",
   "execution_count": 26,
   "metadata": {},
   "outputs": [],
   "source": [
    "from cuml.datasets.classification import make_classification\n",
    "from cuml.preprocessing.model_selection import train_test_split\n",
    "from cuml.ensemble import RandomForestClassifier as cuRF\n",
    "from sklearn.metrics import zero_one_loss\n",
    "from sklearn.metrics import accuracy_score\n",
    "import cupy as cp\n",
    "from cupy import asnumpy\n",
    "import time"
   ]
  },
  {
   "cell_type": "code",
   "execution_count": 27,
   "metadata": {},
   "outputs": [],
   "source": [
    "n_samples = 2**18\n",
    "n_features = 10\n",
    "n_classes = 2\n",
    "\n",
    "# random forest depth and size\n",
    "n_estimators = 25\n",
    "max_depth = 10"
   ]
  },
  {
   "cell_type": "code",
   "execution_count": 28,
   "metadata": {},
   "outputs": [],
   "source": [
    "X, y = make_classification ( n_classes = n_classes,\n",
    "                             n_features = n_features,\n",
    "                             n_samples = n_samples,\n",
    "                             random_state = 0 )\n",
    "\n",
    "X_train, X_test, y_train, y_test = train_test_split( X, y, random_state = 0 )\n",
    "\n",
    "model = cuRF( max_depth = max_depth, \n",
    "              n_estimators = n_estimators,\n",
    "             )\n",
    "\n",
    "trained_RF = model.fit ( X_train, y_train )\n",
    "\n",
    "predictions = model.predict ( X_test )"
   ]
  },
  {
   "cell_type": "code",
   "execution_count": 29,
   "metadata": {},
   "outputs": [],
   "source": [
    "def zero_one_loss(y_true, y_pred, *, normalize=True, sample_weight=None):\n",
    "    score = accuracy_score(y_true, y_pred)\n",
    "    if normalize:\n",
    "        return 1 - score\n",
    "    else:\n",
    "        if sample_weight is not None:\n",
    "            samples = cp.sum(sample_weight)\n",
    "        else:\n",
    "            samples = len(y_true)\n",
    "            print(samples)\n",
    "        return samples - score"
   ]
  },
  {
   "cell_type": "code",
   "execution_count": 30,
   "metadata": {},
   "outputs": [
    {
     "name": "stdout",
     "output_type": "stream",
     "text": [
      "Time consumed by sklearn:  0.006992340087890625\n",
      "Time consumed by cuml:  0.006275653839111328\n",
      " cuml accuracy:  0.0160369873046875\n",
      " sklearn accuracy :  0.0160369873046875\n"
     ]
    }
   ],
   "source": [
    "y_test = cp.asnumpy(y_test)\n",
    "predictions = cp.asnumpy(predictions)\n",
    "\n",
    "\n",
    "p = time.time()\n",
    "sk_score = zero_one_loss( asnumpy( y_test ), asnumpy( predictions ) )\n",
    "d = time.time()\n",
    "print(\"Time consumed by sklearn: \", d-p)\n",
    "s = time.time()\n",
    "cu_score = zero_one_loss( y_test, predictions)\n",
    "e = time.time()\n",
    "print(\"Time consumed by cuml: \", e-s)\n",
    "\n",
    "print( \" cuml accuracy: \", cu_score )\n",
    "print( \" sklearn accuracy : \", sk_score )"
   ]
  },
  {
   "cell_type": "code",
   "execution_count": null,
   "metadata": {},
   "outputs": [],
   "source": []
  }
 ],
 "metadata": {
  "kernelspec": {
   "display_name": "RAPIDS Stable",
   "language": "python",
   "name": "python3"
  },
  "language_info": {
   "codemirror_mode": {
    "name": "ipython",
    "version": 3
   },
   "file_extension": ".py",
   "mimetype": "text/x-python",
   "name": "python",
   "nbconvert_exporter": "python",
   "pygments_lexer": "ipython3",
   "version": "3.8.5"
  }
 },
 "nbformat": 4,
 "nbformat_minor": 4
}
