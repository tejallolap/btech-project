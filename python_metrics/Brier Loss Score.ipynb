{
  "nbformat": 4,
  "nbformat_minor": 0,
  "metadata": {
    "colab": {
      "name": "Brief introduction to CuPy.ipynb",
      "provenance": [],
      "collapsed_sections": [],
      "toc_visible": true
    },
    "kernelspec": {
      "name": "python3",
      "display_name": "Python 3"
    },
    "accelerator": "GPU"
  },
  "cells": [
    {
      "cell_type": "markdown",
      "metadata": {
        "id": "CedR7mJny0UK"
      },
      "source": [
        "Brier Loss Score"
      ]
    },
    {
      "cell_type": "code",
      "metadata": {
        "id": "2mTgROx5y48j"
      },
      "source": [
        "import cupy as cp"
      ],
      "execution_count": 1,
      "outputs": []
    },
    {
      "cell_type": "code",
      "metadata": {
        "id": "Ips-1zFn0GjK"
      },
      "source": [
        "y_true = [0, 1, 1, 0]\n",
        "y_prob = [0.1, 0.9, 0.8, 0.3]\n",
        "y_true = cp.asarray(y_true)\n",
        "y_prob = cp.asarray(y_prob)"
      ],
      "execution_count": 2,
      "outputs": []
    },
    {
      "cell_type": "code",
      "metadata": {
        "id": "-V_PaPnt0ah4"
      },
      "source": [
        "def check_length(y_true, y_pred):\n",
        "    if  len(y_true) == len(y_pred):\n",
        "        return True\n",
        "    else:\n",
        "        return False"
      ],
      "execution_count": 3,
      "outputs": []
    },
    {
      "cell_type": "code",
      "metadata": {
        "id": "cusMLPvS0jbj"
      },
      "source": [
        "def brier_score_loss(y_true, y_prob, *, sample_weight=None, pos_label=None):\n",
        "    if check_length(y_true, y_prob)==True:\n",
        "        labels = cp.unique(y_true)\n",
        "        if pos_label is None:\n",
        "            if (cp.array_equal(labels, [0]) or\n",
        "                    cp.array_equal(labels, [-1])):\n",
        "                pos_label = 1\n",
        "            else:\n",
        "                pos_label = y_true.maximum()\n",
        "        y_true = cp.asarray(y_true == pos_label, int)\n",
        "    return float(cp.average((y_true - y_prob) ** 2, weights=sample_weight))"
      ],
      "execution_count": 4,
      "outputs": []
    },
    {
      "cell_type": "code",
      "metadata": {
        "id": "we7kdXJI08fp",
        "outputId": "2ce2cfc4-b80a-46b9-c305-ae4dda7bd746",
        "colab": {
          "base_uri": "https://localhost:8080/"
        }
      },
      "source": [
        "brier_score_loss(y_true, 1-y_prob, pos_label=0)"
      ],
      "execution_count": 5,
      "outputs": [
        {
          "output_type": "execute_result",
          "data": {
            "text/plain": [
              "0.0375"
            ]
          },
          "metadata": {
            "tags": []
          },
          "execution_count": 5
        }
      ]
    },
    {
      "cell_type": "code",
      "metadata": {
        "id": "1cCmsfuq1CwU"
      },
      "source": [
        ""
      ],
      "execution_count": 5,
      "outputs": []
    }
  ]
}