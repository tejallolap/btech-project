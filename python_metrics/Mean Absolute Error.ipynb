{
  "nbformat": 4,
  "nbformat_minor": 0,
  "metadata": {
    "colab": {
      "name": "Brief introduction to CuPy.ipynb",
      "provenance": [],
      "collapsed_sections": [],
      "toc_visible": true
    },
    "kernelspec": {
      "name": "python3",
      "display_name": "Python 3"
    },
    "accelerator": "GPU"
  },
  "cells": [
    {
      "cell_type": "markdown",
      "metadata": {
        "id": "tznmw3zxvXcV"
      },
      "source": [
        "Mean Absolute Error"
      ]
    },
    {
      "cell_type": "code",
      "metadata": {
        "id": "QZu67K_tvW-S"
      },
      "source": [
        "import cupy as cp\n",
        "y_true = [[0, 1], [-1, 1], [7, -6]]\n",
        "y_pred = [[4, 1], [-1, 5], [2, -6]]\n",
        "y_true = cp.asarray(y_true) \n",
        "y_pred = cp.asarray(y_pred)"
      ],
      "execution_count": 1,
      "outputs": []
    },
    {
      "cell_type": "code",
      "metadata": {
        "id": "uuK9AU-Wv0OM"
      },
      "source": [
        "def check_length(y_true, y_pred):\n",
        "    if  len(y_true) == len(y_pred):\n",
        "        return True\n",
        "    else:\n",
        "        return False"
      ],
      "execution_count": 2,
      "outputs": []
    },
    {
      "cell_type": "code",
      "metadata": {
        "id": "Q4kvoT4sv5HF"
      },
      "source": [
        "def mean_absolute_error(y_true, y_pred, multioutput = 'uniform_average'):\n",
        "  output_errors = cp.average(cp.abs(y_pred - y_true), weights=None, axis=0)\n",
        "  if isinstance(multioutput, str):\n",
        "      if multioutput == 'raw_values':\n",
        "          return output_errors\n",
        "      elif multioutput == 'uniform_average':\n",
        "            # pass None as weights to cp.average: uniform mean\n",
        "          multioutput = None\n",
        "\n",
        "  return cp.average(output_errors, weights=None)"
      ],
      "execution_count": 3,
      "outputs": []
    },
    {
      "cell_type": "code",
      "metadata": {
        "id": "Q3WwEUzQv-C4",
        "outputId": "8c036378-2157-4c4b-d20f-903a13d0a6e6",
        "colab": {
          "base_uri": "https://localhost:8080/"
        }
      },
      "source": [
        "mean_absolute_error(y_true, y_pred)"
      ],
      "execution_count": 4,
      "outputs": [
        {
          "output_type": "execute_result",
          "data": {
            "text/plain": [
              "array(2.16666667)"
            ]
          },
          "metadata": {
            "tags": []
          },
          "execution_count": 4
        }
      ]
    }
  ]
}