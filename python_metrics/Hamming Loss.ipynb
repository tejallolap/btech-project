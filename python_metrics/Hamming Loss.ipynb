{
  "nbformat": 4,
  "nbformat_minor": 0,
  "metadata": {
    "colab": {
      "name": "cupy_chembl_example.ipynb",
      "provenance": [],
      "collapsed_sections": []
    },
    "kernelspec": {
      "name": "python3",
      "display_name": "Python 3"
    },
    "accelerator": "GPU"
  },
  "cells": [
    {
      "cell_type": "code",
      "metadata": {
        "id": "rB3HLtMr2LsA"
      },
      "source": [
        "import cupy as cp\n",
        "import tables as tb\n",
        "import numpy as np"
      ],
      "execution_count": 1,
      "outputs": []
    },
    {
      "cell_type": "code",
      "metadata": {
        "id": "Fe6G0Bdl-NJT"
      },
      "source": [
        "y_pred = [1, 2, 3, 4]\n",
        "y_true = [2, 2, 3, 4]\n",
        "y_true = cp.asarray(y_true)\n",
        "y_pred = cp.asarray(y_pred)\n"
      ],
      "execution_count": 2,
      "outputs": []
    },
    {
      "cell_type": "code",
      "metadata": {
        "id": "ovljuo2EfGMf"
      },
      "source": [
        "def check_length(y_true, y_pred):\n",
        "    if  len(y_true) == len(y_pred):\n",
        "        return True\n",
        "    else:\n",
        "        return False\n"
      ],
      "execution_count": 3,
      "outputs": []
    },
    {
      "cell_type": "code",
      "metadata": {
        "id": "XsNIBBoDfJSt"
      },
      "source": [
        "def weight_sum(sample_score, sample_weight, normalize):\n",
        "    if normalize:\n",
        "        return cp.average(sample_score, weights=sample_weight)\n",
        "    elif sample_weight is not None:\n",
        "        return cp.dot(sample_score, sample_weight)\n",
        "    else:\n",
        "        return sample_score.sum()\n"
      ],
      "execution_count": 4,
      "outputs": []
    },
    {
      "cell_type": "code",
      "metadata": {
        "id": "2PJJvdaifMaJ"
      },
      "source": [
        "def hamming_loss(y_true, y_pred, *, sample_weight=None):\n",
        "    if check_length(y_true, y_pred)==True:\n",
        "        try:\n",
        "            return  weight_sum(y_true != y_pred, sample_weight, normalize=True)\n",
        "        except:\n",
        "            raise ValueError(\"{0} is not supported\".format(y_type))\n"
      ],
      "execution_count": 5,
      "outputs": []
    },
    {
      "cell_type": "code",
      "metadata": {
        "id": "HdwHqpSlfQUN",
        "outputId": "133c00f4-0ec9-4967-cceb-03ec24ba7d18",
        "colab": {
          "base_uri": "https://localhost:8080/"
        }
      },
      "source": [
        "hamming_loss(y_true, y_pred)"
      ],
      "execution_count": 6,
      "outputs": [
        {
          "output_type": "execute_result",
          "data": {
            "text/plain": [
              "array(0.25)"
            ]
          },
          "metadata": {
            "tags": []
          },
          "execution_count": 6
        }
      ]
    },
    {
      "cell_type": "code",
      "metadata": {
        "id": "cTIEOeywfWWx"
      },
      "source": [
        ""
      ],
      "execution_count": 6,
      "outputs": []
    }
  ]
}