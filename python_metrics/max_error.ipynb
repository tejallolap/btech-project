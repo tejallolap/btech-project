{
  "nbformat": 4,
  "nbformat_minor": 0,
  "metadata": {
    "colab": {
      "name": "max_error.ipynb",
      "provenance": []
    },
    "kernelspec": {
      "name": "python3",
      "display_name": "Python 3"
    },
    "accelerator": "GPU"
  },
  "cells": [
    {
      "cell_type": "markdown",
      "metadata": {
        "id": "0Ry3KRrB2x4T"
      },
      "source": [
        "The max_error function computes the maximum residual error (the residual of an observed value is the difference between the observed value and the estimated value of the quantity of interest (for example, a sample mean)), a metric that captures the worst case error between the predicted value and the true value. In a perfectly fitted single output regression model, max_error would be 0 on the training set and though this would be highly unlikely in the real world, this metric shows the extent of error that the model had when it was fitted.\n",
        "<br>\n",
        "If <br> \n",
        "   yi is the predicted value of the i-th sample, and <br>\n",
        "   xi is the corresponding true value, then the max error is defined as <br>\n",
        "     MaxError(x,y) = max(|xi-yi|) <br>\n",
        "<br>\n",
        "Here is a small example of usage of the max_error function:<br>\n",
        "<br>\n",
        ">>><br>\n",
        ">>> from sklearn.metrics import max_error<br>\n",
        ">>> y_true = [3, 2, 7, 1]<br>\n",
        ">>> y_pred = [9, 2, 7, 1]<br>\n",
        ">>> max_error(y_true, y_pred)<br>\n",
        "6<br>\n",
        "<br>\n",
        "\n",
        "The max_error does not support multioutput.<br>\n"
      ]
    },
    {
      "cell_type": "code",
      "metadata": {
        "id": "aw0klB7CuU5C",
        "outputId": "e9f7c682-ded4-4856-af18-ae6b984e19d9",
        "colab": {
          "base_uri": "https://localhost:8080/",
          "height": 50
        }
      },
      "source": [
        "import cupy as cp\n",
        "import time\n",
        "y_true = [3, 2, 7, 1]\n",
        "y_pred = [9, 2, 7, 1]\n",
        "y_true = cp.asarray(y_true) \n",
        "y_pred = cp.asarray(y_pred)\n",
        "def max_error(y_true, y_pred):\n",
        "  max = 0\n",
        "  s = time.time()\n",
        "  for i, j in zip(y_pred, y_true):\n",
        "    error = cp.abs(i - j)\n",
        "    if error > max:\n",
        "      max = error\n",
        "  e = time.time()\n",
        "  print(\"Time: \", e-s)\n",
        "  return max\n",
        "max_error(y_true, y_pred)"
      ],
      "execution_count": 18,
      "outputs": [
        {
          "output_type": "stream",
          "text": [
            "Time:  0.0015141963958740234\n"
          ],
          "name": "stdout"
        },
        {
          "output_type": "execute_result",
          "data": {
            "text/plain": [
              "array(6)"
            ]
          },
          "metadata": {
            "tags": []
          },
          "execution_count": 18
        }
      ]
    },
    {
      "cell_type": "code",
      "metadata": {
        "id": "AMhhfyEtyiW2",
        "outputId": "a441678e-7f77-4206-f2b4-8fa9ec23cdcc",
        "colab": {
          "base_uri": "https://localhost:8080/",
          "height": 50
        }
      },
      "source": [
        "import cupy as cp\n",
        "import time\n",
        "y_true = [3, 2, 7, 1]\n",
        "y_pred = [9, 2, 7, 1]\n",
        "y_true = cp.asarray(y_true) \n",
        "y_pred = cp.asarray(y_pred)\n",
        "def max_error(y_true, y_pred):\n",
        "  p = time.time()\n",
        "  error = cp.ElementwiseKernel(\n",
        "        'T y_pred, T y_true',\n",
        "        'T diff',\n",
        "        'diff = y_pred - y_true',\n",
        "        'error')\n",
        "  diff = error(y_pred, y_true)\n",
        "  d = time.time()\n",
        "  print(\"Time: \", d-p)\n",
        "  return cp.max(diff)\n",
        "\n",
        "max_error(y_true, y_pred)"
      ],
      "execution_count": 19,
      "outputs": [
        {
          "output_type": "stream",
          "text": [
            "Time:  0.00021910667419433594\n"
          ],
          "name": "stdout"
        },
        {
          "output_type": "execute_result",
          "data": {
            "text/plain": [
              "array(6)"
            ]
          },
          "metadata": {
            "tags": []
          },
          "execution_count": 19
        }
      ]
    }
  ]
}