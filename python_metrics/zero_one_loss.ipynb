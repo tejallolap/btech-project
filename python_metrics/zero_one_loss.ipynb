{
 "cells": [
  {
   "cell_type": "markdown",
   "metadata": {},
   "source": [
    "Zero-one classification loss.\n",
    "\n",
    "If normalize is True, return the fraction of misclassifications (float), else it returns the number of misclassifications (int). \n",
    "The best performance is 0.\n",
    "\n",
    "Parameters:\n",
    "y_true: 1d array-like, or label indicator array / sparse matrix\n",
    "Ground truth (correct) labels.\n",
    "\n",
    "y_pred: 1d array-like, or label indicator array / sparse matrix\n",
    "Predicted labels, as returned by a classifier.\n",
    "\n",
    "normalize: bool, optional (default=True)\n",
    "If False, return the number of misclassifications. Otherwise, return the fraction of misclassifications.\n",
    "\n",
    "sample_weight: array-like of shape (n_samples,), default=None\n",
    "Sample weights.\n",
    "\n",
    "Returns:\n",
    "loss: float or int,\n",
    "If normalize == True, return the fraction of misclassifications (float), else it returns the number of misclassifications (int)."
   ]
  },
  {
   "cell_type": "code",
   "execution_count": 1,
   "metadata": {},
   "outputs": [
    {
     "data": {
      "text/plain": [
       "0.25"
      ]
     },
     "execution_count": 1,
     "metadata": {},
     "output_type": "execute_result"
    }
   ],
   "source": [
    "import cupy as cp\n",
    "from cuml.metrics import accuracy_score\n",
    "y_pred = [1, 2, 3, 4]\n",
    "y_true = [2, 2, 3, 4]\n",
    "def zero_one_loss(y_true, y_pred, *, normalize=True, sample_weight=None):\n",
    "    y_true = cp.asarray(y_true) \n",
    "    y_pred = cp.asarray(y_pred)\n",
    "    score = accuracy_score(y_true, y_pred, handle=None, convert_dtype=True)\n",
    "    if normalize:\n",
    "        return 1 - score\n",
    "    else:\n",
    "        if sample_weight is not None:\n",
    "            samples = cp.sum(sample_weight)\n",
    "        else:\n",
    "            samples = len(y_true)\n",
    "            print(samples)\n",
    "        return samples - score\n",
    "        \n",
    "zero_one_loss(y_true, y_pred)"
   ]
  }
 ],
 "metadata": {
  "kernelspec": {
   "display_name": "RAPIDS Stable",
   "language": "python",
   "name": "python3"
  },
  "language_info": {
   "codemirror_mode": {
    "name": "ipython",
    "version": 3
   },
   "file_extension": ".py",
   "mimetype": "text/x-python",
   "name": "python",
   "nbconvert_exporter": "python",
   "pygments_lexer": "ipython3",
   "version": "3.8.5"
  }
 },
 "nbformat": 4,
 "nbformat_minor": 4
}
