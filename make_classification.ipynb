{
 "cells": [
  {
   "cell_type": "code",
   "execution_count": 14,
   "metadata": {},
   "outputs": [
    {
     "name": "stdout",
     "output_type": "stream",
     "text": [
      "Time taken = 0.003012418746948242\n"
     ]
    },
    {
     "name": "stderr",
     "output_type": "stream",
     "text": [
      "C:\\Users\\Tejal\\Anaconda3\\lib\\site-packages\\sklearn\\ensemble\\forest.py:246: FutureWarning: The default value of n_estimators will change from 10 in version 0.20 to 100 in 0.22.\n",
      "  \"10 in version 0.20 to 100 in 0.22.\", FutureWarning)\n"
     ]
    },
    {
     "data": {
      "text/plain": [
       "0.6477496912997172"
      ]
     },
     "execution_count": 14,
     "metadata": {},
     "output_type": "execute_result"
    }
   ],
   "source": [
    "from sklearn.ensemble import RandomForestClassifier\n",
    "from sklearn.datasets import make_classification\n",
    "from sklearn.model_selection import train_test_split\n",
    "import numpy as np\n",
    "import time\n",
    "\n",
    "#Generate noisy data\n",
    "X,y = make_classification(n_samples=10000, n_features=2, n_informative=2, n_redundant=0, n_repeated=0, n_classes=4, n_clusters_per_class=1,class_sep=2,flip_y=0.2,weights=[0.2,0.5,0,0.3], random_state=17)\n",
    "\n",
    "classes = len(np.unique(y))\n",
    "#print(classes)\n",
    "[X_train, X_test, y_train, y_test] = train_test_split(X, y, test_size=0.2, random_state = 0)\n",
    "clf = RandomForestClassifier(max_depth=2, random_state=0)\n",
    "clf.fit(X_train, y_train)\n",
    "y_pred = clf.predict(X_test)\n",
    "\n",
    "from sklearn.metrics import confusion_matrix\n",
    "a = time.time()\n",
    "def balanced_score(y_test, y_pred):\n",
    "    M = confusion_matrix(y_test, y_pred)\n",
    "    rec_list = np.empty(classes)\n",
    "    for i in range(classes): #i = 0\n",
    "        TP = M[i,i]\n",
    "        D = 0\n",
    "        for j in range(0, classes):\n",
    "                D = D + M[i, j] #TP+FN\n",
    "        rec = TP/D\n",
    "        #print(rec)\n",
    "        rec_list[i] = rec\n",
    "    #print(rec_list)\n",
    "    balanced_score = np.sum(rec_list)/classes\n",
    "    b = time.time()\n",
    "    print (\"Time taken =\", b-a)\n",
    "    return balanced_score\n",
    "balanced_score(y_test, y_pred)"
   ]
  },
  {
   "cell_type": "code",
   "execution_count": 15,
   "metadata": {},
   "outputs": [
    {
     "name": "stdout",
     "output_type": "stream",
     "text": [
      "Time taken by sklearn =  0.004987001419067383\n",
      "0.6477496912997172\n"
     ]
    }
   ],
   "source": [
    "from sklearn.metrics import balanced_accuracy_score\n",
    "import time\n",
    "p = time.time()\n",
    "R = balanced_accuracy_score(y_test, y_pred)\n",
    "q = time.time()\n",
    "print(\"Time taken by sklearn = \", q-p)\n",
    "print(R)"
   ]
  }
 ],
 "metadata": {
  "kernelspec": {
   "display_name": "Python 3",
   "language": "python",
   "name": "python3"
  },
  "language_info": {
   "codemirror_mode": {
    "name": "ipython",
    "version": 3
   },
   "file_extension": ".py",
   "mimetype": "text/x-python",
   "name": "python",
   "nbconvert_exporter": "python",
   "pygments_lexer": "ipython3",
   "version": "3.7.1"
  }
 },
 "nbformat": 4,
 "nbformat_minor": 2
}
